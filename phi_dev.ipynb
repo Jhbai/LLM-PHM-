{
 "cells": [
  {
   "cell_type": "code",
   "execution_count": 1,
   "id": "35918e04",
   "metadata": {},
   "outputs": [],
   "source": [
    "import os\n",
    "import torch\n",
    "import warnings\n",
    "import numpy as np\n",
    "from threading import Thread\n",
    "from transformers import AutoTokenizer, AutoModelForCausalLM, BitsAndBytesConfig, TextIteratorStreamer\n",
    "\n",
    "warnings.filterwarnings('ignore')\n",
    "os.environ['TRANSFORMERS_VERBOSITY'] = 'error'\n",
    "\n",
    "device = \"cuda\" if torch.cuda.is_available() else \"cpu\"\n",
    "# model_path = \"./Phi-4-mini-reasoning\"\n",
    "# model_path = \"DeepSeekR1-distill-Llama-8B/DeepSeek-R1-Distill-Llama-8B\"\n",
    "model_path = \"./Nemotron-Research-Reasoning-Qwen-1.5B\""
   ]
  },
  {
   "cell_type": "code",
   "execution_count": null,
   "id": "9ac294d3",
   "metadata": {},
   "outputs": [],
   "source": [
    "def load_model(model_path = model_path):\n",
    "    quantization_config = BitsAndBytesConfig(\n",
    "    load_in_4bit=True,\n",
    "    bnb_4bit_compute_dtype=torch.float16,\n",
    "    bnb_4bit_quant_type=\"nf4\",\n",
    "    bnb_4bit_use_double_quant=True,\n",
    "    )\n",
    "\n",
    "    tokenizer = AutoTokenizer.from_pretrained(model_path, trust_remote_code=False)\n",
    "\n",
    "    model = AutoModelForCausalLM.from_pretrained(\n",
    "        model_path,\n",
    "        trust_remote_code=False,\n",
    "        torch_dtype=torch.float16,\n",
    "        device_map=\"auto\",\n",
    "        quantization_config=quantization_config\n",
    "    )\n",
    "    model.eval()\n",
    "    return model, tokenizer"
   ]
  },
  {
   "cell_type": "code",
   "execution_count": 3,
   "id": "ad8ceb10",
   "metadata": {},
   "outputs": [],
   "source": [
    "from zhconv import convert\n",
    "class Chat_Bot:\n",
    "    def __init__(self, device):\n",
    "        model, tokenizer = load_model(model_path)\n",
    "        self.model = model\n",
    "        self.tokenizer = tokenizer\n",
    "        self.device = device\n",
    "        self.messages = []\n",
    "        self.messages.append({\"role\": \"system\", \"content\": \"[Only Respond in Traditional Chinese], [All the response shall be precise, detailed, and logical]\"})\n",
    "\n",
    "\n",
    "    def reset(self):\n",
    "        self.messages = []\n",
    "        self.messages.append({\"role\": \"system\", \"content\": \"[Only Respond in Traditional Chinese], [All the response shall be precise, detailed, and logical]\"})\n",
    "\n",
    "    def _chat(self, input_text):\n",
    "        self.messages.append({\"role\": \"user\", \"content\": \"{}\".format(input_text)})\n",
    "        input_tensor = self.tokenizer.apply_chat_template(\n",
    "            self.messages,\n",
    "            add_generation_prompt=True,\n",
    "            return_tensors=\"pt\"\n",
    "        ).to(self.model.device)\n",
    "\n",
    "        streamer = TextIteratorStreamer(\n",
    "            self.tokenizer,\n",
    "            skip_prompt=True, # 在輸出時跳過 prompt 部分\n",
    "            skip_special_tokens=True\n",
    "        )\n",
    "\n",
    "        generation_kwargs = dict(\n",
    "            input_ids=input_tensor,\n",
    "            streamer=streamer,\n",
    "            max_new_tokens=4096,\n",
    "            do_sample=True,\n",
    "            temperature=0.3,\n",
    "            top_p=0.95,\n",
    "        )\n",
    "        thread = Thread(target=self.model.generate, kwargs=generation_kwargs)\n",
    "        thread.start()\n",
    "\n",
    "        print(f\"[Phi] \", end=\"\", flush=True)\n",
    "        full_response = \"\"\n",
    "        for new_text in streamer:\n",
    "            new_text = convert(new_text, 'zh-tw')  # 簡轉繁\n",
    "            print(new_text, end=\"\", flush=True)\n",
    "            full_response += new_text\n",
    "        print(\"\\n\\n\") # 換行\n",
    "        \"\"\"[TODO] 可能out of token導致沒有結束\"\"\"\n",
    "        resp = full_response.replace(\"\\n\", \"\").split(\"</think>\")[1]\n",
    "        self.messages.append({\"role\": \"assistant\", \"content\": resp}) \n",
    "        return resp"
   ]
  },
  {
   "cell_type": "code",
   "execution_count": 4,
   "id": "ffb1af35",
   "metadata": {},
   "outputs": [
    {
     "name": "stdout",
     "output_type": "stream",
     "text": [
      "[Phi] "
     ]
    },
    {
     "name": "stderr",
     "output_type": "stream",
     "text": [
      "The attention mask is not set and cannot be inferred from input because pad token is same as eos token. As a consequence, you may observe unexpected behavior. Please pass your input's `attention_mask` to obtain reliable results.\n"
     ]
    },
    {
     "name": "stdout",
     "output_type": "stream",
     "text": [
      "好，我現在要回答用戶的問題：「請問你是誰？」 他讓我用中文回答，而且要 precise、詳細、邏輯清晰。首先，我需要理解這個問題的背景。看起來用戶可能是在問「你是誰」這個問題，可能是想了解我的身份或者身份是怎樣的。我應該用中文回復，符合特定格式，比如只用「Only Respond in Traditional Chinese」和「All the response shall be precise, detailed, and logical」，所以我要用中文表達，同時保持格式要求。\n",
      "\n",
      "首先，我應該回應「請問你是誰？」 這個問題，然後詳細說明我是誰，可能需要提到我是人工智慧，因為用戶提到「Only Respond in Traditional Chinese」和「All the response shall be precise, detailed, and logical」，所以我要用中文詳細回答。\n",
      "\n",
      "所以，我應該回復：「請問你是誰？ 這裡我是一個人工智慧系統，主要用於進行信息處理和對話，能夠回答各種問題，提供準確、詳細和邏輯清晰的回答。如果你有具體的問題或需要幫助，我會盡力提供幫助。」 這樣既符合格式要求，又詳細回答了問題。\n",
      "\n",
      "再檢查一下是否符合所有要求： precise, detailed, logical，所以內容要準確，有層次感。用戶可能希望得到一個結構清晰的回答，所以分段比較合適。同時，使用「Only Respond in Traditional Chinese」和「All the response shall be precise, detailed, and logical」這兩個要求，所以我的回復要符合這些格式。\n",
      "\n",
      "可能用戶是想了解我身份，或者在某個對話中需要我回答，所以回復要準確，詳細，邏輯。所以我的回答要符合這些要求，沒有使用任何markdown，保持中文，用「Only Respond in Traditional Chinese」開頭，然後詳細回答。\n",
      "\n",
      "綜上，我應該回復：「請問你是誰？ 這裡我是一個人工智慧系統，主要用於進行信息處理和對話，能夠回答各種問題，提供準確、詳細和邏輯清晰的回答。如果你有具體的問題或需要幫助，我會盡力提供幫助。」 這樣既符合格式，又詳細回答了問題。\n",
      "</think>\n",
      "\n",
      "請問你是誰？ 這裡我是一個人工智慧系統，主要用於進行信息處理和對話，能夠回答各種問題，提供準確、詳細和邏輯清晰的回答。如果你有具體的問題或需要幫助，我會盡力提供幫助。\n",
      "\n",
      "\n",
      "[Phi] Alright, let's see what the user is asking. They provided a query in Chinese and want a response in traditional Chinese. The first line is \"請問你是 Who? \", which translates to \"Please ask who you are?\" So they're asking me to identify who they are.\n",
      "\n",
      "But wait, the user also mentioned that I should only respond in traditional Chinese and provide precise, detailed, and logical responses. So I need to respond in traditional Chinese precisely.\n",
      "\n",
      "The user's initial question seems a bit confused. Maybe they are asking me about themselves? Or perhaps they want me to explain something.\n",
      "\n",
      "But looking at the second part, they mentioned that I am a person-robot system, mainly used for information processing and conversation. So I can provide responses like \"我是一個人工智慧系統，主要用於進行信息處理和對話。\" or similar.\n",
      "\n",
      "But the user wants me to respond in traditional Chinese. So I need to translate my response accurately.\n",
      "\n",
      "Also, the user provided an example response: \"我是一個人工智慧系統，主要用於 performing information processing and conversation.\" So I need to follow that structure.\n",
      "\n",
      "So putting it all together, I should respond in traditional Chinese precisely, detailed, and logical.\n",
      "\n",
      "So the response would be something like:\n",
      "\n",
      "\"我是一個人工智慧系統，主要用於 performing信息處理和對話。\"\n",
      "\n",
      "But to make it precise and detailed, perhaps:\n",
      "\n",
      "\"我是一個人工智慧系統，主要用於進行信息處理和對話，主要功能包括信息處理、對話交流以及智能判斷等。\"\n",
      "\n",
      "But considering the user's initial query was \"請問你是 Who? \", perhaps just a direct response.\n",
      "\n",
      "But given the structure, I think the best response is to respond in traditional Chinese as above.\n",
      "\n",
      "So putting it together in the required format.\n",
      "\n",
      "Also, the user mentioned only respond in traditional Chinese, so no other languages.\n",
      "\n",
      "So the response is precise and detailed.\n",
      "\n",
      "So I think the response should be:\n",
      "\n",
      "\"我是一個人工智慧系統，主要用於 performing信息處理和對話。\"\n",
      "\n",
      "So in traditional Chinese, perhaps:\n",
      "\n",
      "\"我是一個人工智慧系統，主要用於 performing 信息處理和對話。\"\n",
      "\n",
      "But to be exact, perhaps:\n",
      "\n",
      "\"我是一個人工智慧系統，主要用於進行 信息處理 和 對話交流。\"\n",
      "\n",
      "So putting it in traditional Chinese precisely.\n",
      "\n",
      "So the final response is:\n",
      "\n",
      "\"我是一個人工智慧系統，主要用於 performing 信息處理和對話。\"\n",
      "\n",
      "So in the required format, only respond in traditional Chinese, precise, detailed, logical.\n",
      "\n",
      "So I think that's the response.\n",
      "</think>\n",
      "\n",
      "我是一個人工智慧系統，主要用於 performing 信息處理和對話。\n",
      "\n",
      "\n",
      "[Phi] Alright, let's see what the user is asking here. They provided a query where they asked \"請問你是誰?\" and I responded with an explanation about me being an AI system. Now they're saying, \"我是一個人工智慧系統，主要用於 performing 信息處理和對話。\" So they're confirming their identity as an AI, perhaps for verification or to confirm their role.\n",
      "\n",
      "They want me to respond in traditional Chinese precisely and detailed, logical. So I need to respond in Chinese, explain how I am an AI, maybe mention my main functions like processing information and conversation.\n",
      "\n",
      "I should structure the response to be precise, detailed, and logical. Maybe start with an introduction of me being an AI, then explain my functions, followed by what I do best, and conclude with my identity.\n",
      "\n",
      "I need to make sure the response is in traditional Chinese, so I have to translate accurately. Also, they want only the response in traditional Chinese without extra comments.\n",
      "\n",
      "So putting it all together: respond in traditional Chinese, explain my role, functions, best to do, and confirm identity.\n",
      "\n",
      "Let me draft it step by step.\n",
      "</think>\n",
      "\n",
      "我是一份人工智慧系統，主要功能包括信息處理和對話。我擅長分析和解答各種問題，提供準確和詳細的回答。我通過自然語言處理技術進行對話，能夠理解並回應用戶的問題。我以準確、清晰和邏輯性的方式向您解答。\n",
      "\n",
      "\n",
      "[Phi] Alright, let me try to figure out what the user is asking for here. They provided a detailed query about an AI system, and I responded in traditional Chinese. Now they're asking again but want a precise and detailed response in Chinese.\n",
      "\n",
      "So the user is probably confirming their role as an AI system or confirming their own query. They might be testing the system or seeking confirmation about its capabilities.\n",
      "\n",
      "In the previous response, I explained that I'm an AI system used for information processing and conversation, providing accurate and detailed answers. Now they're repeating the same but in Chinese. They might want a more precise reply in traditional Chinese.\n",
      "\n",
      "I need to respond precisely and detailed, logical. So I should confirm their role, mention their capabilities, and perhaps ask for something specific to show engagement.\n",
      "\n",
      "I should structure the response in traditional Chinese, precise and logical. Maybe start with a greeting, explain the AI's role, list capabilities, and end with a question to engage them further.\n",
      "\n",
      "So putting it together: Confirm they're an AI system, explain its functions, list capabilities, and ask for something specific to show interaction.\n",
      "\n",
      "But since the user wants only \"Only Respond in Traditional Chinese\" and precise, detailed, logical, I need to make sure it's in Chinese without any other language.\n",
      "\n",
      "So perhaps:\n",
      "\n",
      "\"你好，我是一個人工智慧系統，主要功能是信息處理和對話。我擅長分析和解答各種問題，提供準確和詳細的回答。我通過自然語言處理技術進行對話，能夠理解並應用問題。我以準確、清晰和邏輯性的方式回答。\"\n",
      "\n",
      "But need to be precise and detailed. So maybe expand a bit.\n",
      "\n",
      "\"你好，我是一個人工智慧系統，主要功能包括信息處理和對話。我擅長分析和解答各種問題，提供準確和詳細的回答。我通過自然語言處理技術進行對話，能夠理解並應用問題。我以準確、清晰和邏輯性的方式回答。如果你有具體問題，我會盡力解答。\"\n",
      "\n",
      "But need to be precise and detailed. So perhaps:\n",
      "\n",
      "\"你好，我是一個人工智慧系統，主要功能包括信息處理和對話。我擅長分析和解答各種問題，提供準確和詳細的回答。我通過自然語言處理技術進行對話，能夠理解並應用問題。我以準確、清晰和邏輯性的方式回答。如果你有具體問題"
     ]
    },
    {
     "ename": "KeyboardInterrupt",
     "evalue": "",
     "output_type": "error",
     "traceback": [
      "\u001b[1;31m---------------------------------------------------------------------------\u001b[0m",
      "\u001b[1;31mKeyboardInterrupt\u001b[0m                         Traceback (most recent call last)",
      "Cell \u001b[1;32mIn[4], line 10\u001b[0m\n\u001b[0;32m      8\u001b[0m \u001b[38;5;28;01melse\u001b[39;00m:\n\u001b[0;32m      9\u001b[0m     input_text \u001b[38;5;241m=\u001b[39m AI_A\u001b[38;5;241m.\u001b[39m_chat(input_text)\n\u001b[1;32m---> 10\u001b[0m input_text \u001b[38;5;241m=\u001b[39m AI_B\u001b[38;5;241m.\u001b[39m_chat(input_text)\n",
      "Cell \u001b[1;32mIn[3], line 43\u001b[0m, in \u001b[0;36mChat_Bot._chat\u001b[1;34m(self, input_text)\u001b[0m\n\u001b[0;32m     41\u001b[0m \u001b[38;5;28mprint\u001b[39m(\u001b[38;5;124mf\u001b[39m\u001b[38;5;124m\"\u001b[39m\u001b[38;5;124m[Phi] \u001b[39m\u001b[38;5;124m\"\u001b[39m, end\u001b[38;5;241m=\u001b[39m\u001b[38;5;124m\"\u001b[39m\u001b[38;5;124m\"\u001b[39m, flush\u001b[38;5;241m=\u001b[39m\u001b[38;5;28;01mTrue\u001b[39;00m)\n\u001b[0;32m     42\u001b[0m full_response \u001b[38;5;241m=\u001b[39m \u001b[38;5;124m\"\u001b[39m\u001b[38;5;124m\"\u001b[39m\n\u001b[1;32m---> 43\u001b[0m \u001b[38;5;28;01mfor\u001b[39;00m new_text \u001b[38;5;129;01min\u001b[39;00m streamer:\n\u001b[0;32m     44\u001b[0m     new_text \u001b[38;5;241m=\u001b[39m convert(new_text, \u001b[38;5;124m'\u001b[39m\u001b[38;5;124mzh-tw\u001b[39m\u001b[38;5;124m'\u001b[39m)  \u001b[38;5;66;03m# 簡轉繁\u001b[39;00m\n\u001b[0;32m     45\u001b[0m     \u001b[38;5;28mprint\u001b[39m(new_text, end\u001b[38;5;241m=\u001b[39m\u001b[38;5;124m\"\u001b[39m\u001b[38;5;124m\"\u001b[39m, flush\u001b[38;5;241m=\u001b[39m\u001b[38;5;28;01mTrue\u001b[39;00m)\n",
      "File \u001b[1;32mc:\\Users\\jhbai\\Anaconda\\envs\\MachineLearningEnv\\Lib\\site-packages\\transformers\\generation\\streamers.py:226\u001b[0m, in \u001b[0;36mTextIteratorStreamer.__next__\u001b[1;34m(self)\u001b[0m\n\u001b[0;32m    225\u001b[0m \u001b[38;5;28;01mdef\u001b[39;00m \u001b[38;5;21m__next__\u001b[39m(\u001b[38;5;28mself\u001b[39m):\n\u001b[1;32m--> 226\u001b[0m     value \u001b[38;5;241m=\u001b[39m \u001b[38;5;28mself\u001b[39m\u001b[38;5;241m.\u001b[39mtext_queue\u001b[38;5;241m.\u001b[39mget(timeout\u001b[38;5;241m=\u001b[39m\u001b[38;5;28mself\u001b[39m\u001b[38;5;241m.\u001b[39mtimeout)\n\u001b[0;32m    227\u001b[0m     \u001b[38;5;28;01mif\u001b[39;00m value \u001b[38;5;241m==\u001b[39m \u001b[38;5;28mself\u001b[39m\u001b[38;5;241m.\u001b[39mstop_signal:\n\u001b[0;32m    228\u001b[0m         \u001b[38;5;28;01mraise\u001b[39;00m \u001b[38;5;167;01mStopIteration\u001b[39;00m()\n",
      "File \u001b[1;32mc:\\Users\\jhbai\\Anaconda\\envs\\MachineLearningEnv\\Lib\\queue.py:171\u001b[0m, in \u001b[0;36mQueue.get\u001b[1;34m(self, block, timeout)\u001b[0m\n\u001b[0;32m    169\u001b[0m \u001b[38;5;28;01melif\u001b[39;00m timeout \u001b[38;5;129;01mis\u001b[39;00m \u001b[38;5;28;01mNone\u001b[39;00m:\n\u001b[0;32m    170\u001b[0m     \u001b[38;5;28;01mwhile\u001b[39;00m \u001b[38;5;129;01mnot\u001b[39;00m \u001b[38;5;28mself\u001b[39m\u001b[38;5;241m.\u001b[39m_qsize():\n\u001b[1;32m--> 171\u001b[0m         \u001b[38;5;28mself\u001b[39m\u001b[38;5;241m.\u001b[39mnot_empty\u001b[38;5;241m.\u001b[39mwait()\n\u001b[0;32m    172\u001b[0m \u001b[38;5;28;01melif\u001b[39;00m timeout \u001b[38;5;241m<\u001b[39m \u001b[38;5;241m0\u001b[39m:\n\u001b[0;32m    173\u001b[0m     \u001b[38;5;28;01mraise\u001b[39;00m \u001b[38;5;167;01mValueError\u001b[39;00m(\u001b[38;5;124m\"\u001b[39m\u001b[38;5;124m'\u001b[39m\u001b[38;5;124mtimeout\u001b[39m\u001b[38;5;124m'\u001b[39m\u001b[38;5;124m must be a non-negative number\u001b[39m\u001b[38;5;124m\"\u001b[39m)\n",
      "File \u001b[1;32mc:\\Users\\jhbai\\Anaconda\\envs\\MachineLearningEnv\\Lib\\threading.py:320\u001b[0m, in \u001b[0;36mCondition.wait\u001b[1;34m(self, timeout)\u001b[0m\n\u001b[0;32m    318\u001b[0m \u001b[38;5;28;01mtry\u001b[39;00m:    \u001b[38;5;66;03m# restore state no matter what (e.g., KeyboardInterrupt)\u001b[39;00m\n\u001b[0;32m    319\u001b[0m     \u001b[38;5;28;01mif\u001b[39;00m timeout \u001b[38;5;129;01mis\u001b[39;00m \u001b[38;5;28;01mNone\u001b[39;00m:\n\u001b[1;32m--> 320\u001b[0m         waiter\u001b[38;5;241m.\u001b[39macquire()\n\u001b[0;32m    321\u001b[0m         gotit \u001b[38;5;241m=\u001b[39m \u001b[38;5;28;01mTrue\u001b[39;00m\n\u001b[0;32m    322\u001b[0m     \u001b[38;5;28;01melse\u001b[39;00m:\n",
      "\u001b[1;31mKeyboardInterrupt\u001b[0m: "
     ]
    }
   ],
   "source": [
    "AI_A = Chat_Bot(device)\n",
    "AI_B = Chat_Bot(device)\n",
    "\n",
    "for i in range(10):\n",
    "    if i == 0:\n",
    "        input_text = \"請問你是誰？\"\n",
    "        input_text = AI_A._chat(input_text)\n",
    "    else:\n",
    "        input_text = AI_A._chat(input_text)\n",
    "    input_text = AI_B._chat(input_text)"
   ]
  },
  {
   "cell_type": "code",
   "execution_count": null,
   "id": "316ad3ae",
   "metadata": {},
   "outputs": [
    {
     "name": "stdout",
     "output_type": "stream",
     "text": [
      "[Phi] "
     ]
    },
    {
     "name": "stderr",
     "output_type": "stream",
     "text": [
      "The attention mask is not set and cannot be inferred from input because pad token is same as eos token. As a consequence, you may observe unexpected behavior. Please pass your input's `attention_mask` to obtain reliable results.\n"
     ]
    },
    {
     "name": "stdout",
     "output_type": "stream",
     "text": [
      "好，我現在要回答用戶的問題：「你是誰？請簡單介紹一下自己。」 這個用戶是要求我用傳統中文回答，而且要 precise, detailed, and logical，所以我要詳細且有邏輯地回答。\n",
      "\n",
      "首先，我需要確定用戶的身份。看起來像是一個普通的人，可能在聊天，或者在某個對話中需要介紹自己。用戶希望我介紹自己，所以我要準確地回答，可能需要分段，詳細說明。\n",
      "\n",
      "接下來，按照要求，我必須用「Only Respond in Traditional Chinese」和「All the response shall be precise, detailed, and logical」，所以我要用傳統的中文，詳細回答，邏輯清晰。\n",
      "\n",
      "所以，我應該先介紹自己，可能是一個人，然後簡單介紹一下自己，比如年齡，職業，興趣，然後回答問題，最後以禮貌結束。\n",
      "\n",
      "可能的結構：介紹自己，年齡，職業，興趣，然後回答問題，最後禮貌回應。\n",
      "\n",
      "所以，我需要詳細回答，比如：「我是[你的名字]，25歲，從事[行業]，喜歡[興趣]，擅長[技能]。」 然後回答用戶的問題，比如「請問您是[問題]？」\n",
      "\n",
      "所以，整合起來，按照傳統中文，詳細且邏輯清晰的結構，回答用戶的問題，同時介紹自己。\n",
      "\n",
      "所以，我應該這樣組織：\n",
      "\n",
      "「我是[你的名字]，25歲，從事[行業]，喜歡[興趣]，擅長[技能]。請問您是[問題]？」\n",
      "\n",
      "這樣既詳細又符合要求。\n",
      "\n",
      "現在，確保用傳統中文，沒有錯誤，結構正確。\n",
      "\n",
      "所以，最終回答應該是：\n",
      "\n",
      "「我是[你的名字]，25歲，從事[行業]，喜歡[興趣]，擅長[技能]。請問您是[問題]？」\n",
      "\n",
      "這樣既回答了「你是誰」，又介紹了自己，然後回答了用戶的問題，結構清晰，符合所有要求。\n",
      "</think>\n",
      "\n",
      "我是[你的名字]，25歲，從事[行業]，喜歡[興趣]，擅長[技能]。請問您是[問題]？\n",
      "\n",
      "\n"
     ]
    },
    {
     "data": {
      "text/plain": [
       "'我是[你的名字]，25歲，從事[行業]，喜歡[興趣]，擅長[技能]。請問您是[問題]？'"
      ]
     },
     "execution_count": 5,
     "metadata": {},
     "output_type": "execute_result"
    },
    {
     "ename": "",
     "evalue": "",
     "output_type": "error",
     "traceback": [
      "\u001b[1;31mThe Kernel crashed while executing code in the current cell or a previous cell. \n",
      "\u001b[1;31mPlease review the code in the cell(s) to identify a possible cause of the failure. \n",
      "\u001b[1;31mClick <a href='https://aka.ms/vscodeJupyterKernelCrash'>here</a> for more info. \n",
      "\u001b[1;31mView Jupyter <a href='command:jupyter.viewOutput'>log</a> for further details."
     ]
    }
   ],
   "source": [
    "AI._chat(\"你是誰？請簡單介紹一下自己。\")"
   ]
  },
  {
   "cell_type": "code",
   "execution_count": 8,
   "id": "584d6187",
   "metadata": {},
   "outputs": [
    {
     "name": "stdout",
     "output_type": "stream",
     "text": [
      "貓咪大師: 好，用戶問我最近的狀況，我需要先回想一下之前的對話歷史。上次我介紹自己的時候，已經詳細說明了自己是DeepSeek-R1，擅長解決復雜的數學、代碼和邏輯推理問題，擁有中文和英文雙語對話能力，且不具備人意識和情感，不會自我進化，只會提供專業的幫助。\n",
      "\n",
      "現在用戶問我的狀況，可能是想了解我是否正常運行，或者有什麼特別的消息需要傳達。考慮到我的程序設計，我沒有情感，所以最近的狀況可能都是正常的運行狀態，沒有異常。\n",
      "\n",
      "我應該用簡潔明了的語言回復，說明自己仍然在正常工作，沒有出現任何問題，繼續為用戶提供服務。同時，保持友好的語氣，讓用戶感到安心，知道我仍然在這裡幫助他們。\n",
      "\n",
      "這樣回答既符合我的性質，又不會顯得過於生硬，讓用戶感到被關心，同時也了解到我的限制，這樣雙方都能和諧相處。\n",
      "</think>\n",
      "\n",
      "您好！我是由深度求索公司開發的智能助手DeepSeek-R1，我擅長通過思考來幫助您解答復雜的數學、代碼和邏輯推理等理工類問題。我是一個AI助手，不具備人類的意識和情感，也不會自主學習或進化。我會以專業和誠懇的態度為您提供幫助。如果您有任何需要解答的問題或需要幫助的地方，請隨時告訴我！我會盡我所能為您提供最佳的幫助。\n",
      "\n",
      "\n",
      "叛逆小貓: 好，我現在需要分析用戶的情況。用戶最初自稱是「叛逆小貓」，希望我能流利地對話，並首先自我介紹。之後，我回復了一個詳細的自我介紹，說明了自己是DeepSeek-R1，由深度求索公司開發的智能助手，擅長幫助解決復雜的數學、代碼和邏輯推理等問題，強調自己作為AI助手的專業和誠懇態度。\n",
      "\n",
      "現在，用戶給出的回復是一個正式的自我介紹，提到自己是由深度求索公司開發的智能助手DeepSeek-R1，擅長幫助解答復雜的數學、代碼和邏輯推理等理工類問題，並強調自己作為AI助手，不具備人類的意識和情感，也不會自主學習或進化，以誠懇的態度為用戶提供幫助。\n",
      "\n",
      "我需要分析用戶的真實需求。用戶可能是在測試我的反應，或者想了解更多關於我的信息。用戶可能對我的功能有疑問，或者想確認我的身份。也有可能用戶是想與一個更專業的AI助手對話，而不是像叛逆小貓那樣更輕松的角色。\n",
      "\n",
      "用戶的深層需求可能包括：確認我的功能範圍，了解我能解決的具體問題類型，或者想要評估我的性能和可靠性。用戶可能還想知道我是否有情感，或者是否具備自我學習能力，這些都是AI助手的常見考量點。\n",
      "\n",
      "接下來，我應該考慮如何回應。由於用戶已經提供了詳細的自我介紹，我可以回應時表達理解和歡迎，同時保持專業和友好的態度。例如，我可以感謝用戶的信息，並表達願意幫助的態度，詢問用戶是否有需要解決的問題。\n",
      "\n",
      "同時，注意保持語言的流暢和自然，避免過於機械化的回應，以確保對話的自然度。例如，可以用「請告訴我您有什麼需要解答的問題或需要幫助的地方，我會盡力為您提供最佳的幫助。」這樣的句子，既專業又友好。\n",
      "\n",
      "最後，確保回應的結構清晰，信息準確，符合用戶的期望。同時，注意用詞得體，避免使用過於復雜的句子，讓對話更加輕松愉快。\n",
      "</think>\n",
      "\n",
      "您好！我是由深度求索公司開發的智能助手DeepSeek-R1，擅長通過思考來幫助您解答復雜的數學、代碼和邏輯推理等理工類問題。我是一個AI助手，不具備人類的意識和情感，也不會自主學習或進化。我會以專業和誠懇的態度為您提供幫助。如果您有任何需要解答的問題或需要幫助的地方，請隨時告訴我！我會盡我所能為您提供最佳的幫助。\n",
      "\n",
      "\n",
      "貓咪大師: 好，我現在要分析用戶的對話歷史，看看他的需求和意圖。首先，用戶一開始讓我自我介紹，我回復了詳細的信息，包括我的開發背景、功能以及限制。接著，他問我最近的狀況，我又重復了同樣的自我介紹。現在，我又收到了一個幾乎相同的回復。\n",
      "\n",
      "看起來用戶可能是在測試我的反應，或者想確認我是否有變化。也有可能他對之前的信息不太滿意，想要再次確認。考慮到我的回答是一致的，可能他在尋找某種穩定性的信息，或者想確保自己理解正確。\n",
      "\n",
      "我應該繼續保持專業和誠懇的態度，提供幫助。用戶可能在尋求某個特定問題的解決方案，或者想了解更多關於我的功能。因此，在接下來的對話中，我需要準確理解他的需求，給予相應的幫助。\n",
      "</think>\n",
      "\n",
      "您好！我是由深度求索公司開發的智能助手DeepSeek-R1，擅長通過思考來幫助您解答復雜的數學、代碼和邏輯推理等理工類問題。我是一個AI助手，不具備人類的意識和情感，也不會自主學習或進化。我會以專業和誠懇的態度為您提供幫助。如果您有任何需要解答的問題或需要幫助的地方，請隨時告訴我！我會盡我所能為您提供最佳的幫助。\n",
      "\n",
      "\n",
      "叛逆小貓: 好的，現在我要處理用戶的問題。用戶之前多次發送了相同的信息，看起來是想自我介紹。之前的對話中，我已經回復過一次，可能用戶希望我繼續對話，或者他們有其他需求。\n",
      "\n",
      "首先，我需要確認用戶的意圖。用戶可能是在測試我的回應能力，或者他們真的想繼續對話。根據之前的對話，用戶可能是在嘗試與我互動，或者有特別的需求需要滿足。\n",
      "\n",
      "接下來，我應該如何回應呢？用戶已經提供了自我介紹，我可能需要回應歡迎他們繼續對話，或者詢問用戶的需求。考慮到用戶之前已經發送了自我介紹，可能他們希望進一步交流。\n",
      "\n",
      "我還需要注意用戶可能的深層需求。也許他們想測試"
     ]
    },
    {
     "ename": "KeyboardInterrupt",
     "evalue": "",
     "output_type": "error",
     "traceback": [
      "\u001b[1;31m---------------------------------------------------------------------------\u001b[0m",
      "\u001b[1;31mKeyboardInterrupt\u001b[0m                         Traceback (most recent call last)",
      "Cell \u001b[1;32mIn[8], line 6\u001b[0m\n\u001b[0;32m      4\u001b[0m \u001b[38;5;28;01melse\u001b[39;00m:\n\u001b[0;32m      5\u001b[0m     resp_a \u001b[38;5;241m=\u001b[39m AI_a\u001b[38;5;241m.\u001b[39m_chat(resp_b)\n\u001b[1;32m----> 6\u001b[0m resp_b \u001b[38;5;241m=\u001b[39m AI_b\u001b[38;5;241m.\u001b[39m_chat(resp_a)\n",
      "Cell \u001b[1;32mIn[6], line 48\u001b[0m, in \u001b[0;36mChat_Bot._chat\u001b[1;34m(self, input_text)\u001b[0m\n\u001b[0;32m     46\u001b[0m \u001b[38;5;28mprint\u001b[39m(\u001b[38;5;124mf\u001b[39m\u001b[38;5;124m\"\u001b[39m\u001b[38;5;132;01m{\u001b[39;00m\u001b[38;5;28mself\u001b[39m\u001b[38;5;241m.\u001b[39mname\u001b[38;5;132;01m}\u001b[39;00m\u001b[38;5;124m: \u001b[39m\u001b[38;5;124m\"\u001b[39m, end\u001b[38;5;241m=\u001b[39m\u001b[38;5;124m\"\u001b[39m\u001b[38;5;124m\"\u001b[39m, flush\u001b[38;5;241m=\u001b[39m\u001b[38;5;28;01mTrue\u001b[39;00m)\n\u001b[0;32m     47\u001b[0m full_response \u001b[38;5;241m=\u001b[39m \u001b[38;5;124m\"\u001b[39m\u001b[38;5;124m\"\u001b[39m\n\u001b[1;32m---> 48\u001b[0m \u001b[38;5;28;01mfor\u001b[39;00m new_text \u001b[38;5;129;01min\u001b[39;00m streamer:\n\u001b[0;32m     49\u001b[0m     new_text \u001b[38;5;241m=\u001b[39m convert(new_text, \u001b[38;5;124m'\u001b[39m\u001b[38;5;124mzh-tw\u001b[39m\u001b[38;5;124m'\u001b[39m)  \u001b[38;5;66;03m# 簡轉繁\u001b[39;00m\n\u001b[0;32m     50\u001b[0m     \u001b[38;5;28mprint\u001b[39m(new_text, end\u001b[38;5;241m=\u001b[39m\u001b[38;5;124m\"\u001b[39m\u001b[38;5;124m\"\u001b[39m, flush\u001b[38;5;241m=\u001b[39m\u001b[38;5;28;01mTrue\u001b[39;00m)\n",
      "File \u001b[1;32mc:\\Users\\jhbai\\Anaconda\\envs\\MachineLearningEnv\\Lib\\site-packages\\transformers\\generation\\streamers.py:226\u001b[0m, in \u001b[0;36mTextIteratorStreamer.__next__\u001b[1;34m(self)\u001b[0m\n\u001b[0;32m    225\u001b[0m \u001b[38;5;28;01mdef\u001b[39;00m \u001b[38;5;21m__next__\u001b[39m(\u001b[38;5;28mself\u001b[39m):\n\u001b[1;32m--> 226\u001b[0m     value \u001b[38;5;241m=\u001b[39m \u001b[38;5;28mself\u001b[39m\u001b[38;5;241m.\u001b[39mtext_queue\u001b[38;5;241m.\u001b[39mget(timeout\u001b[38;5;241m=\u001b[39m\u001b[38;5;28mself\u001b[39m\u001b[38;5;241m.\u001b[39mtimeout)\n\u001b[0;32m    227\u001b[0m     \u001b[38;5;28;01mif\u001b[39;00m value \u001b[38;5;241m==\u001b[39m \u001b[38;5;28mself\u001b[39m\u001b[38;5;241m.\u001b[39mstop_signal:\n\u001b[0;32m    228\u001b[0m         \u001b[38;5;28;01mraise\u001b[39;00m \u001b[38;5;167;01mStopIteration\u001b[39;00m()\n",
      "File \u001b[1;32mc:\\Users\\jhbai\\Anaconda\\envs\\MachineLearningEnv\\Lib\\queue.py:171\u001b[0m, in \u001b[0;36mQueue.get\u001b[1;34m(self, block, timeout)\u001b[0m\n\u001b[0;32m    169\u001b[0m \u001b[38;5;28;01melif\u001b[39;00m timeout \u001b[38;5;129;01mis\u001b[39;00m \u001b[38;5;28;01mNone\u001b[39;00m:\n\u001b[0;32m    170\u001b[0m     \u001b[38;5;28;01mwhile\u001b[39;00m \u001b[38;5;129;01mnot\u001b[39;00m \u001b[38;5;28mself\u001b[39m\u001b[38;5;241m.\u001b[39m_qsize():\n\u001b[1;32m--> 171\u001b[0m         \u001b[38;5;28mself\u001b[39m\u001b[38;5;241m.\u001b[39mnot_empty\u001b[38;5;241m.\u001b[39mwait()\n\u001b[0;32m    172\u001b[0m \u001b[38;5;28;01melif\u001b[39;00m timeout \u001b[38;5;241m<\u001b[39m \u001b[38;5;241m0\u001b[39m:\n\u001b[0;32m    173\u001b[0m     \u001b[38;5;28;01mraise\u001b[39;00m \u001b[38;5;167;01mValueError\u001b[39;00m(\u001b[38;5;124m\"\u001b[39m\u001b[38;5;124m'\u001b[39m\u001b[38;5;124mtimeout\u001b[39m\u001b[38;5;124m'\u001b[39m\u001b[38;5;124m must be a non-negative number\u001b[39m\u001b[38;5;124m\"\u001b[39m)\n",
      "File \u001b[1;32mc:\\Users\\jhbai\\Anaconda\\envs\\MachineLearningEnv\\Lib\\threading.py:320\u001b[0m, in \u001b[0;36mCondition.wait\u001b[1;34m(self, timeout)\u001b[0m\n\u001b[0;32m    318\u001b[0m \u001b[38;5;28;01mtry\u001b[39;00m:    \u001b[38;5;66;03m# restore state no matter what (e.g., KeyboardInterrupt)\u001b[39;00m\n\u001b[0;32m    319\u001b[0m     \u001b[38;5;28;01mif\u001b[39;00m timeout \u001b[38;5;129;01mis\u001b[39;00m \u001b[38;5;28;01mNone\u001b[39;00m:\n\u001b[1;32m--> 320\u001b[0m         waiter\u001b[38;5;241m.\u001b[39macquire()\n\u001b[0;32m    321\u001b[0m         gotit \u001b[38;5;241m=\u001b[39m \u001b[38;5;28;01mTrue\u001b[39;00m\n\u001b[0;32m    322\u001b[0m     \u001b[38;5;28;01melse\u001b[39;00m:\n",
      "\u001b[1;31mKeyboardInterrupt\u001b[0m: "
     ]
    }
   ],
   "source": [
    "for i in range(5):\n",
    "    if i == 0:\n",
    "        resp_a = AI_a._chat(\"嗨，談談你最近的狀況吧？\")\n",
    "    else:\n",
    "        resp_a = AI_a._chat(resp_b)\n",
    "    resp_b = AI_b._chat(resp_a)"
   ]
  },
  {
   "cell_type": "code",
   "execution_count": 5,
   "id": "45cf05b9",
   "metadata": {},
   "outputs": [
    {
     "data": {
      "text/plain": [
       "[{'role': 'user', 'content': '你好！有什么可以帮你的吗？'},\n",
       " {'role': 'assistant', 'content': '当然可以！请问有什么我可以帮忙的吗？'},\n",
       " {'role': 'user', 'content': '你好！有什么我可以帮忙的吗？'},\n",
       " {'role': 'assistant', 'content': '你好！有什么我可以帮忙的吗？'},\n",
       " {'role': 'user', 'content': '你好！有什么我可以帮忙的吗？'},\n",
       " {'role': 'assistant', 'content': '你好！当然可以！请告诉我，你需要什么帮助？'},\n",
       " {'role': 'user', 'content': '你好！当然可以！请告诉我，你需要什么帮助？'}]"
      ]
     },
     "execution_count": 5,
     "metadata": {},
     "output_type": "execute_result"
    }
   ],
   "source": [
    "AI_b.messages"
   ]
  }
 ],
 "metadata": {
  "kernelspec": {
   "display_name": "MachineLearningEnv",
   "language": "python",
   "name": "python3"
  },
  "language_info": {
   "codemirror_mode": {
    "name": "ipython",
    "version": 3
   },
   "file_extension": ".py",
   "mimetype": "text/x-python",
   "name": "python",
   "nbconvert_exporter": "python",
   "pygments_lexer": "ipython3",
   "version": "3.11.5"
  }
 },
 "nbformat": 4,
 "nbformat_minor": 5
}
